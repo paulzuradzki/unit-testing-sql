{
 "cells": [
  {
   "cell_type": "markdown",
   "id": "6f9ff5cf",
   "metadata": {},
   "source": [
    "# Unit Testing SQL\n",
    "\n",
    "Say we have the following SQL. How would we test it with a real query engine?\n",
    "\n",
    "```sql\n",
    "WITH grouped AS\n",
    "  (SELECT region, sum(amount) AS sale_amount\n",
    "   FROM orders\n",
    "   GROUP BY region\n",
    "   ORDER BY region)\n",
    "SELECT sum(CASE WHEN region = 'East' THEN sale_amount END) AS sales_east,\n",
    "       sum(CASE WHEN region = 'North' THEN sale_amount END) AS sales_north,\n",
    "       sum(CASE WHEN region = 'South' THEN sale_amount END) AS sales_south,\n",
    "       sum(CASE WHEN region = 'West' THEN sale_amount END) AS sales_west\n",
    "FROM grouped;\n",
    "```\n",
    "\n",
    "The `orders` table looks like this:\n",
    "\n",
    "```\n",
    "CREATE TABLE orders (id serial PRIMARY KEY, region text, item text, amount integer);\n",
    "\n",
    "|id |region|item      |amount|\n",
    "|---|------|----------|------|\n",
    "|1  |North |Apple     |100   |\n",
    "|2  |South |Banana    |200   |\n",
    "|3  |East  |Cherry    |300   |\n",
    "|4  |West  |Date      |400   |\n",
    "|5  |East  |Elderberry|300   |\n",
    "|6  |West  |Fig       |400   |\n",
    "\n",
    "```\n",
    "\n",
    "The result of the sum and pivot operation should look like this:\n",
    "\n",
    "```\n",
    "|sales_east|sales_north|sales_south|sales_west|\n",
    "|----------|-----------|-----------|----------|\n",
    "|600       |100        |200        |800       |\n",
    "```\n",
    "\n",
    "## The Plan\n",
    "\n",
    "From a good unit test, we want a test that is focused, isolated, and reproducible. It shouldn't collide with other tests over shared state/data issues or fail due to changes in schema (that would be more of an integration or end-to-end test). This means we won't be using a real remote database for our unit test.\n",
    "\n",
    "We will define our input data and expected output data using Python collections.\n",
    "\n",
    "Then for the table dependencies -- like the `orders` table in our example -- we need to seed it with just enough data to verify the behavior of the SQL code under test. We'll use a lightweight trick. Rather than create and seed a real table in the DB  -- this is a valid option too -- we will create a common table expression (CTE), `orders`, where we generate SELECT statements with the values from our Python input data."
   ]
  },
  {
   "cell_type": "markdown",
   "id": "55d5aa4b",
   "metadata": {},
   "source": [
    "We define our input data as follows. Using default dictionaries and pipe-merging them simplifies cases where only a few columns of data need to be varied for the test. That way, future readers don't have to scan and parse for what data is relevant to the behavior under test."
   ]
  },
  {
   "cell_type": "code",
   "execution_count": 1,
   "id": "ea8b404a",
   "metadata": {},
   "outputs": [],
   "source": [
    "default_order_item = {\n",
    "    \"region\": \"North\",\n",
    "    \"item\": \"Apple\",\n",
    "    \"amount\": 100,\n",
    "}\n",
    "\n",
    "input_data = [\n",
    "    default_order_item | {\"region\": \"North\", \"amount\": 100},\n",
    "    default_order_item | {\"region\": \"South\", \"amount\": 200},\n",
    "    default_order_item | {\"region\": \"East\", \"amount\": 300},\n",
    "    default_order_item | {\"region\": \"West\", \"amount\": 400},\n",
    "    default_order_item | {\"region\": \"East\", \"amount\": 300},\n",
    "    default_order_item | {\"region\": \"West\", \"amount\": 400},\n",
    "]"
   ]
  },
  {
   "cell_type": "markdown",
   "id": "2c45e2c7",
   "metadata": {},
   "source": [
    "See the diff for the original SQL under test and how -- during test time only -- a mocked table CTE gets prepended. Rather than query the real `orders` table, we query the CTE.\n",
    "\n",
    "```diff\n",
    "+WITH orders AS\n",
    "+  (SELECT 'North' AS region, 'Apple' AS item, 100 AS amount\n",
    "+   UNION ALL SELECT 'South' AS region, 'Apple' AS item, 200 AS amount\n",
    "+   UNION ALL SELECT 'East' AS region, 'Apple' AS item, 300 AS amount\n",
    "+   UNION ALL SELECT 'West' AS region, 'Apple' AS item, 400 AS amount\n",
    "+   UNION ALL SELECT 'East' AS region, 'Apple' AS item, 300 AS amount\n",
    "+   UNION ALL SELECT 'West' AS region, 'Apple' AS item, 400 AS amount),\n",
    "+     grouped AS\n",
    "-WITH grouped as\n",
    "  (SELECT region, sum(amount) AS sale_amount\n",
    "   FROM orders\n",
    "   GROUP BY region\n",
    "   ORDER BY region)\n",
    "SELECT sum(CASE WHEN region = 'East' THEN sale_amount END) AS sales_east, sum(CASE WHEN region = 'North' THEN sale_amount END) AS sales_north,\n",
    "       sum(CASE WHEN region = 'South' THEN sale_amount END) AS sales_south, sum(CASE WHEN region = 'West' THEN sale_amount END) AS sales_west\n",
    "FROM grouped;\n",
    "```\n",
    "\n",
    "We define our expected output with Python. This could just as easily be defined in YAML too, as some other frameworks do. Then we check the return value of our Python function which executed the SQL.\n",
    "\n",
    "```python\n",
    "expected_output = [\n",
    "    {\n",
    "        \"sales_east\": Decimal(\"600\"),\n",
    "        \"sales_north\": Decimal(\"100\"),\n",
    "        \"sales_south\": Decimal(\"200\"),\n",
    "        \"sales_west\": Decimal(\"800\"),\n",
    "    }\n",
    "]\n",
    "```\n",
    "\n",
    "## Alternatives\n",
    "\n",
    "There are frameworks -- ie, Django ORM -- that come with an ORM and test runner that will set up test tables according to the ORM model/class definitions. You can seed your test data with ORM objects or raw SQL in the unit test setup step. If you're already working in a Django app or using Django-managed tables, this is definitely a strong option.\n",
    "\n",
    "`dbt` and `SQLMesh` also have testing utilities for input-output style unit tests.\n",
    "\n",
    "The CTE approach is nice, because it has few dependencies and doesn't tie you into a framework. Depending on your project, you might like to try this method out before introducing a heavier tool."
   ]
  },
  {
   "cell_type": "markdown",
   "id": "9d12a8b5",
   "metadata": {},
   "source": [
    "## Worked Example\n",
    "\n",
    "First, we need a few test helpers."
   ]
  },
  {
   "cell_type": "code",
   "execution_count": 2,
   "id": "a4682403",
   "metadata": {},
   "outputs": [],
   "source": [
    "import re\n",
    "\n",
    "\n",
    "def create_mock_cte(table_name: str, rows: list[dict]) -> str:\n",
    "    if not rows:\n",
    "        raise ValueError(\"rows must not be empty\")\n",
    "\n",
    "    select_statements = []\n",
    "    for row in rows:\n",
    "        # Build select clause with proper SQL literals\n",
    "        columns = []\n",
    "        for key, value in row.items():\n",
    "            if isinstance(value, str):\n",
    "                columns.append(f\"'{value}' as {key}\")\n",
    "            else:\n",
    "                columns.append(f\"{value} as {key}\")\n",
    "        select_statements.append(f\"    select {', '.join(columns)}\")\n",
    "\n",
    "    # Join with \"union all\" except for the last one\n",
    "    cte_body = \" union all\\n\".join(select_statements)\n",
    "\n",
    "    return f\"with {table_name} as (\\n{cte_body}\\n)\"\n",
    "\n",
    "\n",
    "def merge_mock_cte_with_sql(\n",
    "    mock_cte: str, sql: str\n",
    ") -> str:  # Remove trailing whitespace from mock CTE and add comma separator\n",
    "    mock_cte = mock_cte.rstrip() + \",\"\n",
    "\n",
    "    # Replace ONLY the first \"with \" (case-insensitive) to merge CTEs properly\n",
    "    merged = re.sub(r\"\\bwith\\s+\", mock_cte + \"\\n\", sql, count=1, flags=re.IGNORECASE)\n",
    "\n",
    "    return merged\n"
   ]
  },
  {
   "cell_type": "markdown",
   "id": "a2cbe8ba",
   "metadata": {},
   "source": [
    "`create_mock_cte` builds up our CTE with our input data. This CTE fragment will get prepended to the real SQL under test later."
   ]
  },
  {
   "cell_type": "code",
   "execution_count": 3,
   "id": "b8fdfe9a",
   "metadata": {},
   "outputs": [
    {
     "name": "stdout",
     "output_type": "stream",
     "text": [
      "with orders as (\n",
      "    select 'North' as region, 'Apple' as item, 100 as amount union all\n",
      "    select 'South' as region, 'Apple' as item, 200 as amount\n",
      ")\n"
     ]
    }
   ],
   "source": [
    "table = \"orders\"\n",
    "rows = [\n",
    "    {\"region\": \"North\", \"item\": \"Apple\", \"amount\": 100},\n",
    "    {\"region\": \"South\", \"item\": \"Apple\", \"amount\": 200},\n",
    "]\n",
    "\n",
    "mock_cte = create_mock_cte(table, rows)\n",
    "\n",
    "print(mock_cte)"
   ]
  },
  {
   "cell_type": "markdown",
   "id": "ba1df2af",
   "metadata": {},
   "source": [
    "```sql\n",
    "with orders as (\n",
    "    select 'North' as region, 'Apple' as item, 100 as amount union all\n",
    "    select 'South' as region, 'Apple' as item, 200 as amount\n",
    ")\n",
    "```"
   ]
  },
  {
   "cell_type": "markdown",
   "id": "bac2a607",
   "metadata": {},
   "source": [
    "Next, see how the printed SQL shows `with orders...` and our sample data prepended to the production SQL."
   ]
  },
  {
   "cell_type": "code",
   "execution_count": 4,
   "id": "5d37bd70",
   "metadata": {},
   "outputs": [
    {
     "name": "stdout",
     "output_type": "stream",
     "text": [
      "with orders as (\n",
      "    select 'North' as region, 'Apple' as item, 100 as amount union all\n",
      "    select 'South' as region, 'Apple' as item, 200 as amount\n",
      "),\n",
      "grouped AS\n",
      "  (SELECT region, sum(amount) AS sale_amount\n",
      "   FROM orders\n",
      "   GROUP BY region\n",
      "   ORDER BY region)\n",
      "SELECT sum(CASE WHEN region = 'East' THEN sale_amount END) AS sales_east,\n",
      "       sum(CASE WHEN region = 'North' THEN sale_amount END) AS sales_north,\n",
      "       sum(CASE WHEN region = 'South' THEN sale_amount END) AS sales_south,\n",
      "       sum(CASE WHEN region = 'West' THEN sale_amount END) AS sales_west\n",
      "FROM grouped;\n",
      "\n"
     ]
    }
   ],
   "source": [
    "sql = \"\"\"\\\n",
    "WITH grouped AS\n",
    "  (SELECT region, sum(amount) AS sale_amount\n",
    "   FROM orders\n",
    "   GROUP BY region\n",
    "   ORDER BY region)\n",
    "SELECT sum(CASE WHEN region = 'East' THEN sale_amount END) AS sales_east,\n",
    "       sum(CASE WHEN region = 'North' THEN sale_amount END) AS sales_north,\n",
    "       sum(CASE WHEN region = 'South' THEN sale_amount END) AS sales_south,\n",
    "       sum(CASE WHEN region = 'West' THEN sale_amount END) AS sales_west\n",
    "FROM grouped;\n",
    "\"\"\"\n",
    "\n",
    "print(merge_mock_cte_with_sql(mock_cte, sql))"
   ]
  },
  {
   "cell_type": "markdown",
   "id": "15da273e",
   "metadata": {},
   "source": [
    "```sql\n",
    "with orders as (\n",
    "    select 'North' as region, 'Apple' as item, 100 as amount union all\n",
    "    select 'South' as region, 'Apple' as item, 200 as amount\n",
    "),\n",
    "grouped AS\n",
    "  (SELECT region, sum(amount) AS sale_amount\n",
    "   FROM orders\n",
    "   GROUP BY region\n",
    "   ORDER BY region)\n",
    "SELECT sum(CASE WHEN region = 'East' THEN sale_amount END) AS sales_east,\n",
    "       sum(CASE WHEN region = 'North' THEN sale_amount END) AS sales_north,\n",
    "       sum(CASE WHEN region = 'South' THEN sale_amount END) AS sales_south,\n",
    "       sum(CASE WHEN region = 'West' THEN sale_amount END) AS sales_west\n",
    "FROM grouped;\n",
    "```"
   ]
  },
  {
   "cell_type": "markdown",
   "id": "cf150dd0",
   "metadata": {},
   "source": [
    "Next, we pass the SQL to a query runner. For unit tests, your database URL should point to a locally running database. I'm running a test DB using Docker. See the source code `README.md` for setup steps."
   ]
  },
  {
   "cell_type": "code",
   "execution_count": 5,
   "id": "04ae395a",
   "metadata": {},
   "outputs": [
    {
     "name": "stdout",
     "output_type": "stream",
     "text": [
      "[{'sales_east': None,\n",
      "  'sales_north': Decimal('100'),\n",
      "  'sales_south': Decimal('200'),\n",
      "  'sales_west': None}]\n"
     ]
    }
   ],
   "source": [
    "import psycopg2\n",
    "import os\n",
    "from pprint import pprint\n",
    "\n",
    "def run_sql(conn: psycopg2.connect, sql: str) -> dict[str, int]:\n",
    "    with conn.cursor() as cur:\n",
    "        cur.execute(sql)\n",
    "        cols = [desc[0] for desc in cur.description]\n",
    "        rows = cur.fetchall()\n",
    "        data = [dict(zip(cols, row)) for row in rows]\n",
    "    return data\n",
    "\n",
    "\n",
    "conn = psycopg2.connect(os.environ[\"DATABASE_URL\"])\n",
    "\n",
    "result = run_sql(conn, merge_mock_cte_with_sql(mock_cte, sql))\n",
    "pprint(result, sort_dicts=False)"
   ]
  },
  {
   "cell_type": "markdown",
   "id": "60f25835",
   "metadata": {},
   "source": [
    "```\n",
    "[{'sales_east': None,\n",
    "  'sales_north': Decimal('100'),\n",
    "  'sales_south': Decimal('200'),\n",
    "  'sales_west': None}]\n",
    "```"
   ]
  },
  {
   "cell_type": "markdown",
   "id": "c3842468",
   "metadata": {},
   "source": [
    "Voilà! We have testable output. With `pytest`, the complete unit test could look like this. In this example, I'm reading SQL from a package file. Whether you store your SQL in a file, string, or template string -- the main idea here is that we can modify the original SQL code-under-test at test time without cluttering our production code. The prod code doesn't need to \"know\" about the CTE testing shenanigans."
   ]
  },
  {
   "cell_type": "code",
   "execution_count": 6,
   "id": "f1383909",
   "metadata": {},
   "outputs": [],
   "source": [
    "# As a bonus, here is how to run tests in a notebook with the ipytest magic command.\n",
    "\n",
    "import ipytest\n",
    "\n",
    "ipytest.autoconfig()"
   ]
  },
  {
   "cell_type": "code",
   "execution_count": 7,
   "id": "d867672f",
   "metadata": {},
   "outputs": [
    {
     "name": "stdout",
     "output_type": "stream",
     "text": [
      "\u001b[32m.\u001b[0m\u001b[32m                                                                                            [100%]\u001b[0m\n"
     ]
    }
   ],
   "source": [
    "%%ipytest -q\n",
    "\n",
    "from decimal import Decimal\n",
    "from importlib.resources import files\n",
    "from app.transform import run_sql\n",
    "\n",
    "import pytest\n",
    "import psycopg2\n",
    "import os\n",
    "from dotenv import load_dotenv\n",
    "\n",
    "\n",
    "@pytest.fixture(scope=\"session\")\n",
    "def db_conn():\n",
    "    \"\"\"Provide a database connection for tests\"\"\"\n",
    "    load_dotenv()\n",
    "    conn = psycopg2.connect(os.environ[\"DATABASE_URL\"])\n",
    "    yield conn\n",
    "    conn.close()\n",
    "\n",
    "\n",
    "def test_sum_and_pivot(db_conn):\n",
    "    # Arrange\n",
    "\n",
    "    # We don't care about \"item\", so we use a default value\n",
    "    default_order_item = {\n",
    "        \"region\": \"North\",\n",
    "        \"item\": \"Apple\",\n",
    "        \"amount\": 100,\n",
    "    }\n",
    "\n",
    "    input_data = [\n",
    "        default_order_item | {\"region\": \"North\", \"amount\": 100},\n",
    "        default_order_item | {\"region\": \"South\", \"amount\": 200},\n",
    "        default_order_item | {\"region\": \"East\", \"amount\": 300},\n",
    "        default_order_item | {\"region\": \"West\", \"amount\": 400},\n",
    "        default_order_item | {\"region\": \"East\", \"amount\": 300},\n",
    "        default_order_item | {\"region\": \"West\", \"amount\": 400},\n",
    "    ]\n",
    "\n",
    "    expected_output = [\n",
    "        {\n",
    "            \"sales_east\": Decimal(\"600\"),\n",
    "            \"sales_north\": Decimal(\"100\"),\n",
    "            \"sales_south\": Decimal(\"200\"),\n",
    "            \"sales_west\": Decimal(\"800\"),\n",
    "        }\n",
    "    ]\n",
    "\n",
    "    # Create mock CTE that replaces the real 'orders' table\n",
    "    mock_orders_cte = create_mock_cte(\"orders\", input_data)\n",
    "\n",
    "    # Load the real SQL file and merge with mock data\n",
    "    sql = files(\"app\").joinpath(\"sql/pivot.sql\").read_text()\n",
    "    test_sql = merge_mock_cte_with_sql(mock_orders_cte, sql)\n",
    "\n",
    "    # Act\n",
    "    actual_output = run_sql(conn=db_conn, sql=test_sql)\n",
    "\n",
    "    # Assert\n",
    "    assert actual_output == expected_output\n"
   ]
  },
  {
   "cell_type": "markdown",
   "id": "c5a22e8f",
   "metadata": {},
   "source": [
    "## In Closing\n",
    "\n",
    "To recap, TL;DR:\n",
    "\n",
    "1. SQL can be tricky to test due to dependencies on schema, input data, and a database query engine. In addition, SQL in the wild is often verbose and hard to isolate into testable units.\n",
    "2. Swapping in a common table expression for your table at test time is one way to achieve reproducible, isolated, and focused unit tests for SQL code.\n",
    "\n",
    "Hopefully by seeing that you *can* unit test SQL, you might spot opportunities to strengthen your automated code verification.\n",
    "\n",
    "How do you test your SQL? Drop me a note if you enjoyed the post or learned something new.\n",
    "\n",
    "Links\n",
    "\n",
    "- **Credits**: I originally encountered this technique in this excellent talk: [Unleashing Confidence in SQL Development through Unit Testing - Tobias Lampert](https://www.youtube.com/watch?v=YRVTWwFFd8c). The main difference from my mini tutorial is that you'll get more implementation detail with the annotated walkthrough format.\n",
    "- For source code behind this post, the repo is located here: [https://github.com/paulzuradzki/unit-testing-sql](https://github.com/paulzuradzki/unit-testing-sql)"
   ]
  },
  {
   "cell_type": "markdown",
   "id": "b0ab2c5f",
   "metadata": {},
   "source": []
  }
 ],
 "metadata": {
  "kernelspec": {
   "display_name": ".venv",
   "language": "python",
   "name": "python3"
  },
  "language_info": {
   "codemirror_mode": {
    "name": "ipython",
    "version": 3
   },
   "file_extension": ".py",
   "mimetype": "text/x-python",
   "name": "python",
   "nbconvert_exporter": "python",
   "pygments_lexer": "ipython3",
   "version": "3.13.7"
  }
 },
 "nbformat": 4,
 "nbformat_minor": 5
}
